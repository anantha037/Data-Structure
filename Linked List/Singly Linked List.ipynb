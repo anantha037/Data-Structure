{
 "cells": [
  {
   "cell_type": "markdown",
   "id": "492ce444-7970-496e-9ec1-b8ba641a57ad",
   "metadata": {},
   "source": [
    "# SLL"
   ]
  },
  {
   "cell_type": "code",
   "execution_count": 3,
   "id": "36f21aeb-c358-4dfb-b009-287e6859d0ed",
   "metadata": {},
   "outputs": [],
   "source": [
    "class Node:\n",
    "    def __init__(self,data):\n",
    "        self.data = data\n",
    "        self.next = None\n",
    "        \n",
    "class SinglyLinkedList:\n",
    "    def __init__(self):\n",
    "        self.head = None\n",
    "    def add_at_beginning(self,data):\n",
    "        new_node = Node(data)\n",
    "        new_node.next = self.head\n",
    "        self.head = new_node\n",
    "    def add_at_end(self,data):\n",
    "        new_node = Node(data)\n",
    "        if not self.head:\n",
    "            self.head = new_node\n",
    "            return\n",
    "        temp = self.head\n",
    "        while temp.next:\n",
    "            temp = temp.next\n",
    "        temp.next = new_node\n",
    "    def delete_node(self,value):\n",
    "        temp = self.head\n",
    "        if temp and temp.data == value:\n",
    "            self.head = temp.next\n",
    "            temp = None\n",
    "            return\n",
    "        prev = None\n",
    "        while temp and temp.data != value:\n",
    "            prev = temp\n",
    "            temp = temp.next\n",
    "        if not temp:\n",
    "            return\n",
    "        prev.next = temp.next\n",
    "        temp = None\n",
    "\n",
    "    def insert_after(self,x,data):\n",
    "        temp = self.head\n",
    "        while temp and temp.data != x:\n",
    "            temp = temp.next\n",
    "        if temp:\n",
    "            new_node = Node(data)\n",
    "            new_node.next= temp.next\n",
    "            temp.next = new_node\n",
    "    def insert_before(self,x,data):\n",
    "        if not self.head:\n",
    "            return\n",
    "        if self.head.data == x:\n",
    "            self.add_at_beginning(data)\n",
    "            return\n",
    "        prev = None\n",
    "        temp = self.head\n",
    "        while temp and temp.data != x:\n",
    "            prev = temp\n",
    "            temp = temp.next\n",
    "        if temp:\n",
    "            new_node = Node(data)\n",
    "            new_node.next = temp\n",
    "            prev.next = new_node\n",
    "    def print_list(self):\n",
    "        temp = self.head\n",
    "        while temp:\n",
    "            print(temp.data,end =' -> ')\n",
    "            temp = temp.next\n",
    "        print('None')\n",
    "    def print_reverse(self,node):\n",
    "        if node is None:\n",
    "            return\n",
    "        self.print_reverse(node.next)\n",
    "        print(node.data,end=' <- ')\n",
    "\n",
    "    def print_list_reverse(self):\n",
    "        self.print_reverse(self.head)\n",
    "        print('None')\n",
    "        \n",
    "    \n",
    "    def array_to_linked_list(self,arr):\n",
    "        for data in arr:\n",
    "            self.add_at_end(data)\n",
    "\n",
    "    def remove_duplicates(self):\n",
    "        temp = self.head\n",
    "        while temp and temp.next:\n",
    "            if temp.data == temp.next.data:\n",
    "                temp.next = temp.next.next\n",
    "            else:\n",
    "                temp = temp.next"
   ]
  },
  {
   "cell_type": "code",
   "execution_count": 5,
   "id": "57b40efe-53ff-4fc2-829a-21d10de50242",
   "metadata": {},
   "outputs": [],
   "source": [
    "sll = SinglyLinkedList()"
   ]
  },
  {
   "cell_type": "code",
   "execution_count": 8,
   "id": "ecf0a849-13d7-4fff-9352-1eb599c39ebf",
   "metadata": {},
   "outputs": [
    {
     "name": "stdout",
     "output_type": "stream",
     "text": [
      "10 -> 20 -> 30 -> 40 -> None\n"
     ]
    }
   ],
   "source": [
    "sll.array_to_linked_list([10,20,30,40])\n",
    "sll.print_list()"
   ]
  },
  {
   "cell_type": "code",
   "execution_count": 10,
   "id": "3c9e948e-8cff-4eda-b64f-668d25269560",
   "metadata": {},
   "outputs": [
    {
     "name": "stdout",
     "output_type": "stream",
     "text": [
      "12 -> 10 -> 20 -> 30 -> 40 -> None\n"
     ]
    }
   ],
   "source": [
    "sll.add_at_beginning(12)\n",
    "sll.print_list()"
   ]
  },
  {
   "cell_type": "code",
   "execution_count": 12,
   "id": "06856691-e520-472f-bb2f-4c3d0c27df3b",
   "metadata": {},
   "outputs": [
    {
     "name": "stdout",
     "output_type": "stream",
     "text": [
      "12 -> 10 -> 20 -> 30 -> 40 -> 7 -> None\n"
     ]
    }
   ],
   "source": [
    "sll.add_at_end(7)\n",
    "sll.print_list()"
   ]
  },
  {
   "cell_type": "code",
   "execution_count": 14,
   "id": "124dd881-1faf-4240-9dca-d554f7afe909",
   "metadata": {},
   "outputs": [
    {
     "name": "stdout",
     "output_type": "stream",
     "text": [
      "12 -> 10 -> 20 -> 30 -> 35 -> 40 -> 7 -> None\n"
     ]
    }
   ],
   "source": [
    "sll.insert_after(30,35)\n",
    "sll.print_list()"
   ]
  },
  {
   "cell_type": "code",
   "execution_count": null,
   "id": "5eb3b92f-121d-4673-bdcb-88b7c1ac1df4",
   "metadata": {},
   "outputs": [],
   "source": []
  }
 ],
 "metadata": {
  "kernelspec": {
   "display_name": "Python 3 (ipykernel)",
   "language": "python",
   "name": "python3"
  },
  "language_info": {
   "codemirror_mode": {
    "name": "ipython",
    "version": 3
   },
   "file_extension": ".py",
   "mimetype": "text/x-python",
   "name": "python",
   "nbconvert_exporter": "python",
   "pygments_lexer": "ipython3",
   "version": "3.12.3"
  }
 },
 "nbformat": 4,
 "nbformat_minor": 5
}
