{
 "cells": [
  {
   "cell_type": "markdown",
   "id": "6ba6ad72-26e8-4fa5-bc21-2613c302a542",
   "metadata": {},
   "source": [
    "# Selection Sort"
   ]
  },
  {
   "cell_type": "code",
   "execution_count": 24,
   "id": "f81823df-1c51-4f56-bee5-fdab0c215d0d",
   "metadata": {},
   "outputs": [],
   "source": [
    "def selection_sort(arr):\n",
    "    n = len(arr)\n",
    "    for i in range(n):\n",
    "        min_idx = i\n",
    "        for j in range(i+1,n):\n",
    "            if arr[j]<arr[min_idx]:\n",
    "                min_idx = j\n",
    "        arr[i],arr[min_idx] = arr[min_idx],arr[i]\n",
    "    return arr"
   ]
  },
  {
   "cell_type": "code",
   "execution_count": 26,
   "id": "5f0c344b-5aef-44b1-bf64-99a02738a942",
   "metadata": {},
   "outputs": [
    {
     "data": {
      "text/plain": [
       "[2, 2, 3, 3, 3, 4, 6, 7, 7, 8, 9, 23, 64]"
      ]
     },
     "execution_count": 26,
     "metadata": {},
     "output_type": "execute_result"
    }
   ],
   "source": [
    "nums = [7,3,4,7,9,3,2,64,8,3,23,6,2]\n",
    "selection_sort(nums)"
   ]
  },
  {
   "cell_type": "code",
   "execution_count": null,
   "id": "20a382f7-1e0f-4476-8867-017289034be3",
   "metadata": {},
   "outputs": [],
   "source": []
  }
 ],
 "metadata": {
  "kernelspec": {
   "display_name": "Python 3 (ipykernel)",
   "language": "python",
   "name": "python3"
  },
  "language_info": {
   "codemirror_mode": {
    "name": "ipython",
    "version": 3
   },
   "file_extension": ".py",
   "mimetype": "text/x-python",
   "name": "python",
   "nbconvert_exporter": "python",
   "pygments_lexer": "ipython3",
   "version": "3.12.3"
  }
 },
 "nbformat": 4,
 "nbformat_minor": 5
}
